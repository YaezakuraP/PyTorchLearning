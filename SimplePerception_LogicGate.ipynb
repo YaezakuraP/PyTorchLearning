{
 "cells": [
  {
   "cell_type": "markdown",
   "metadata": {},
   "source": [
    "# 単純パーセプトロンで論理回路を学習してみる"
   ]
  },
  {
   "cell_type": "code",
   "execution_count": null,
   "metadata": {},
   "outputs": [],
   "source": [
    "import torch\n",
    "from torch import nn\n",
    "from torch import utils\n",
    "from tqdm import tqdm\n",
    "import numpy as np\n",
    "import matplotlib.pyplot as plt"
   ]
  },
  {
   "cell_type": "markdown",
   "metadata": {},
   "source": [
    "## データセットの作成\n",
    "論理回路の入力$x$と出力$y$のデータセット（教師データ）を作成する"
   ]
  },
  {
   "cell_type": "code",
   "execution_count": null,
   "metadata": {},
   "outputs": [],
   "source": [
    "# 正解のデータ\n",
    "\n",
    "x=[[0,0],\n",
    "   [0,0],\n",
    "   [0,0],\n",
    "   [0,0]]\n",
    "\n",
    "y = [[0],[0],[0],[0]]\n",
    "\n",
    "x = torch.tensor(x,dtype=torch.float)\n",
    "y = torch.tensor(y,dtype=torch.float)\n",
    "dataset = utils.data.TensorDataset(x,y)\n",
    "\n",
    "data_loader = utils.data.DataLoader(dataset,batch_size=1)\n",
    "\n",
    "for a,b in data_loader:\n",
    "   print(a,b)"
   ]
  },
  {
   "cell_type": "markdown",
   "metadata": {},
   "source": [
    "## モデルの定義\n",
    "単純パーセプトロンのモデルの定義を行う\n",
    "活性化関数としてシグモイドを利用"
   ]
  },
  {
   "cell_type": "code",
   "execution_count": null,
   "metadata": {},
   "outputs": [],
   "source": [
    "model = nn.Sequential(nn.Linear(2,1),\n",
    "                      nn.Sigmoid())"
   ]
  },
  {
   "cell_type": "markdown",
   "metadata": {},
   "source": [
    "## 損失関数・最適化関数の定義"
   ]
  },
  {
   "cell_type": "code",
   "execution_count": null,
   "metadata": {},
   "outputs": [],
   "source": [
    "criterion = nn.BCELoss()\n",
    "optimizer = torch.optim.Adam(model.parameters(),lr=0.01)"
   ]
  },
  {
   "cell_type": "markdown",
   "metadata": {},
   "source": [
    "## 学習\n",
    "今回は，教師データの全てが学習できているかを確認するだけなので，過学習気味に行う"
   ]
  },
  {
   "cell_type": "code",
   "execution_count": null,
   "metadata": {},
   "outputs": [],
   "source": [
    "epochs = 2000"
   ]
  },
  {
   "cell_type": "code",
   "execution_count": null,
   "metadata": {},
   "outputs": [],
   "source": [
    "model.train()\n",
    "\n",
    "for epoch in tqdm(range(epochs)):\n",
    "    for input, correct_answer in data_loader:\n",
    "        outputs = model(input)\n",
    "        loss = criterion(outputs,correct_answer)\n",
    "        \n",
    "        optimizer.zero_grad()\n",
    "        loss.backward()\n",
    "        optimizer.step()\n",
    "        "
   ]
  },
  {
   "cell_type": "markdown",
   "metadata": {},
   "source": [
    "## 推論\n",
    "色々な値を入力し，推論が正しいか判別するとともに，正しく学習できているか確認してみよう"
   ]
  },
  {
   "cell_type": "code",
   "execution_count": null,
   "metadata": {},
   "outputs": [],
   "source": [
    "model.eval()\n",
    "\n",
    "input = [[0,0]]\n",
    "input = torch.Tensor(input)\n",
    "input = torch.unsqueeze(input,dim=0)\n",
    "\n",
    "with torch.inference_mode():\n",
    "    outputs = model(input)\n",
    "    inference = torch.squeeze(outputs,dim=0)\n",
    "    print('推論結果：',inference.item())"
   ]
  },
  {
   "cell_type": "markdown",
   "metadata": {},
   "source": [
    "## 線形分離の可視化\n",
    "作ったニューラルネットが，どのような判定の概形を作っているのか確認しよう\n",
    "### 仕組み\n",
    "~~ランダムにx1,x2を決めてその値を推論．出力結果は，$y^{\\prime}$:ニューラルネットの出力，$y$：最終的な出力として~~\n",
    "$$\n",
    "% y= \n",
    "% \\left\\{\n",
    "% \\begin{array}{ll}\n",
    "% 1 & y^{\\prime} \\geqq 0.5 \\\\\n",
    "% 0 & y^{\\prime} < 0.5\n",
    "% \\end{array}\n",
    "% \\right.\n",
    "% $$\n",
    "\n",
    "~~としてプロットする~~"
   ]
  },
  {
   "cell_type": "code",
   "execution_count": null,
   "metadata": {},
   "outputs": [],
   "source": [
    "model.eval()\n",
    "\n",
    "xforPlot = []\n",
    "rng = np.random.default_rng()\n",
    "x1 = rng.uniform(0,1,1000) # 1000個のランダムなx1座標\n",
    "x2 = rng.uniform(0,1,1000) # 1000個のランダムなx2座標\n",
    "\n",
    "\n",
    "for a,b in zip(x1,x2):\n",
    "  xforPlot.append([a,b])\n",
    "\n",
    "outputs = model(torch.Tensor(xforPlot))\n",
    "outputs = outputs.squeeze()\n",
    "#outputs = torch.where(outputs>=0.5, 1,0)\n",
    "outputs = outputs.detach().numpy()\n",
    "\n",
    "plt.scatter(x1,x2,c=outputs, vmin=0, vmax=1)\n",
    "plt.xlabel(\"x1\")\n",
    "plt.ylabel(\"x2\")\n",
    "plt.colorbar()"
   ]
  }
 ],
 "metadata": {
  "kernelspec": {
   "display_name": "Python 3",
   "language": "python",
   "name": "python3"
  },
  "language_info": {
   "codemirror_mode": {
    "name": "ipython",
    "version": 3
   },
   "file_extension": ".py",
   "mimetype": "text/x-python",
   "name": "python",
   "nbconvert_exporter": "python",
   "pygments_lexer": "ipython3",
   "version": "3.12.4"
  }
 },
 "nbformat": 4,
 "nbformat_minor": 2
}
